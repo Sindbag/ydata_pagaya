{
 "cells": [
  {
   "cell_type": "markdown",
   "metadata": {},
   "source": [
    "# Homework\n",
    "\n",
    "**Instructions on how to create your own cluster:** https://docs.google.com/document/d/1PYhUiMs-FQkLjwUgtkHhW9nCyIPE51XYLMOHAjEhSHQ/edit?usp=sharing\n",
    "\n",
    "We will use user logs of Yandex.Music streaming service.\n",
    "\n",
    "File `events.csv` contains entries `User,Artist,Number of plays,Number of skips`:\n",
    "```csv\n",
    "userId,artistId,plays,skips\n",
    "0,335,1,0\n",
    "0,708,1,0\n",
    "0,710,2,1\n",
    "0,815,1,1\n",
    "```\n",
    "\n",
    "You are asked to do the following using MapReduce:\n",
    "1. **(1 point) Create a subset of data with users who have more than 1000 plays in total. How many users have you found?**\n",
    "2. **(1 point) In subset from step 1 find 5 most popular artists (by number of unique users). Who are they?**\n",
    "\n",
    "Hints:\n",
    "1. Let's assume that all events of one user fit in memory (reasonable assumption)."
   ]
  },
  {
   "cell_type": "code",
   "execution_count": 2,
   "metadata": {},
   "outputs": [
    {
     "name": "stdout",
     "output_type": "stream",
     "text": [
      "download: s3://ydatazian/yandex_music/README.txt to yandex_music/README.txt\n",
      "download: s3://ydatazian/yandex_music/artists.jsonl to yandex_music/artists.jsonl\n",
      "download: s3://ydatazian/yandex_music/events.csv to yandex_music/events.csv\n"
     ]
    }
   ],
   "source": [
    "# download from s3 to local disk\n",
    "! aws s3 cp s3://ydatazian/yandex_music ./yandex_music --recursive"
   ]
  },
  {
   "cell_type": "code",
   "execution_count": 3,
   "metadata": {},
   "outputs": [
    {
     "name": "stdout",
     "output_type": "stream",
     "text": [
      "userId,artistId,plays,skips\r\n",
      "0,335,1,0\r\n",
      "0,708,1,0\r\n",
      "0,710,2,1\r\n",
      "0,815,1,1\r\n"
     ]
    }
   ],
   "source": [
    "# take a look at the file\n",
    "! head -n 5 yandex_music/events.csv"
   ]
  },
  {
   "cell_type": "code",
   "execution_count": 4,
   "metadata": {},
   "outputs": [
    {
     "name": "stdout",
     "output_type": "stream",
     "text": [
      "Found 3 items\r\n",
      "-rw-r--r--   1 hadoop hadoop        254 2021-11-07 11:15 /yandex_music/README.txt\r\n",
      "-rw-r--r--   1 hadoop hadoop      3.7 M 2021-11-07 11:15 /yandex_music/artists.jsonl\r\n",
      "-rw-r--r--   1 hadoop hadoop     47.6 M 2021-11-07 11:15 /yandex_music/events.csv\r\n"
     ]
    }
   ],
   "source": [
    "# copy to HDFS\n",
    "! hadoop fs -copyFromLocal yandex_music /\n",
    "! hadoop fs -ls -h /yandex_music"
   ]
  },
  {
   "cell_type": "code",
   "execution_count": 189,
   "metadata": {},
   "outputs": [],
   "source": [
    "# HERE COMES YOUR CODE"
   ]
  }
 ],
 "metadata": {
  "kernelspec": {
   "display_name": "Python 3",
   "language": "python",
   "name": "python3"
  },
  "language_info": {
   "codemirror_mode": {
    "name": "ipython",
    "version": 3
   },
   "file_extension": ".py",
   "mimetype": "text/x-python",
   "name": "python",
   "nbconvert_exporter": "python",
   "pygments_lexer": "ipython3",
   "version": "3.6.8"
  }
 },
 "nbformat": 4,
 "nbformat_minor": 2
}
