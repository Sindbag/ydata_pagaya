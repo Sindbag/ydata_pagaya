{
 "cells": [
  {
   "cell_type": "markdown",
   "metadata": {},
   "source": [
    "# Create SparkContext & SparkSession\n",
    "\n",
    "https://spark.apache.org/docs/latest/rdd-programming-guide.html\n",
    "\n",
    "http://spark.apache.org/docs/latest/sql-getting-started.html"
   ]
  },
  {
   "cell_type": "code",
   "execution_count": 1,
   "metadata": {},
   "outputs": [],
   "source": [
    "import findspark\n",
    "findspark.init()\n",
    "\n",
    "import pyspark\n",
    "sc = pyspark.SparkContext(appName='jupyter')\n",
    "\n",
    "from pyspark.sql import SparkSession, Row\n",
    "se = SparkSession(sc)"
   ]
  },
  {
   "cell_type": "markdown",
   "metadata": {},
   "source": [
    "# Yandex.Music dataset"
   ]
  },
  {
   "cell_type": "code",
   "execution_count": 1,
   "metadata": {},
   "outputs": [
    {
     "name": "stdout",
     "output_type": "stream",
     "text": [
      "download: s3://ydatazian/yandex_music/README.txt to yandex_music/README.txt\n",
      "download: s3://ydatazian/yandex_music/artists.jsonl to yandex_music/artists.jsonl\n",
      "download: s3://ydatazian/yandex_music/events.csv to yandex_music/events.csv\n"
     ]
    }
   ],
   "source": [
    "# download from s3 to local disk\n",
    "! aws s3 cp s3://ydatazian/yandex_music ./yandex_music --recursive"
   ]
  },
  {
   "cell_type": "code",
   "execution_count": 2,
   "metadata": {},
   "outputs": [
    {
     "name": "stdout",
     "output_type": "stream",
     "text": [
      "total 52M\r\n",
      "-rw-r--r-- 1 jovyan root 3.7M Oct 19 00:18 artists.jsonl\r\n",
      "-rw-r--r-- 1 jovyan root  48M Oct 19 00:28 events.csv\r\n",
      "-rw-r--r-- 1 jovyan root  254 Oct 19 00:41 README.txt\r\n"
     ]
    }
   ],
   "source": [
    "! ls -lh yandex_music"
   ]
  },
  {
   "cell_type": "code",
   "execution_count": 3,
   "metadata": {
    "scrolled": false
   },
   "outputs": [
    {
     "name": "stdout",
     "output_type": "stream",
     "text": [
      "{\"artistId\":0,\"artistName\":\"Mack Gordon\"}\r\n",
      "{\"artistId\":1,\"artistName\":\"Kenny Dorham\"}\r\n",
      "{\"artistId\":2,\"artistName\":\"Max Roach\"}\r\n",
      "{\"artistId\":3,\"artistName\":\"Francis Rossi\"}\r\n",
      "{\"artistId\":4,\"artistName\":\"Status Quo\"}\r\n"
     ]
    }
   ],
   "source": [
    "! head -n 5 yandex_music/artists.jsonl"
   ]
  },
  {
   "cell_type": "code",
   "execution_count": 4,
   "metadata": {},
   "outputs": [
    {
     "name": "stdout",
     "output_type": "stream",
     "text": [
      "userId,artistId,plays,skips\r\n",
      "0,335,1,0\r\n",
      "0,708,1,0\r\n",
      "0,710,2,1\r\n",
      "0,815,1,1\r\n"
     ]
    }
   ],
   "source": [
    "! head -n 5 yandex_music/events.csv"
   ]
  },
  {
   "cell_type": "markdown",
   "metadata": {},
   "source": [
    "# Copy to HDFS"
   ]
  },
  {
   "cell_type": "code",
   "execution_count": 5,
   "metadata": {},
   "outputs": [],
   "source": [
    "! hadoop fs -copyFromLocal yandex_music /"
   ]
  },
  {
   "cell_type": "code",
   "execution_count": 6,
   "metadata": {},
   "outputs": [
    {
     "name": "stdout",
     "output_type": "stream",
     "text": [
      "Found 3 items\r\n",
      "-rw-r--r--   1 jovyan supergroup        254 2020-10-24 16:50 /yandex_music/README.txt\r\n",
      "-rw-r--r--   1 jovyan supergroup      3.7 M 2020-10-24 16:50 /yandex_music/artists.jsonl\r\n",
      "-rw-r--r--   1 jovyan supergroup     47.6 M 2020-10-24 16:50 /yandex_music/events.csv\r\n"
     ]
    }
   ],
   "source": [
    "! hadoop fs -ls -h /yandex_music"
   ]
  },
  {
   "cell_type": "markdown",
   "metadata": {},
   "source": [
    "# Load to Spark"
   ]
  },
  {
   "cell_type": "code",
   "execution_count": 7,
   "metadata": {},
   "outputs": [
    {
     "data": {
      "text/html": [
       "<div>\n",
       "<style scoped>\n",
       "    .dataframe tbody tr th:only-of-type {\n",
       "        vertical-align: middle;\n",
       "    }\n",
       "\n",
       "    .dataframe tbody tr th {\n",
       "        vertical-align: top;\n",
       "    }\n",
       "\n",
       "    .dataframe thead th {\n",
       "        text-align: right;\n",
       "    }\n",
       "</style>\n",
       "<table border=\"1\" class=\"dataframe\">\n",
       "  <thead>\n",
       "    <tr style=\"text-align: right;\">\n",
       "      <th></th>\n",
       "      <th>artistId</th>\n",
       "      <th>artistName</th>\n",
       "    </tr>\n",
       "  </thead>\n",
       "  <tbody>\n",
       "    <tr>\n",
       "      <th>0</th>\n",
       "      <td>0</td>\n",
       "      <td>Mack Gordon</td>\n",
       "    </tr>\n",
       "    <tr>\n",
       "      <th>1</th>\n",
       "      <td>1</td>\n",
       "      <td>Kenny Dorham</td>\n",
       "    </tr>\n",
       "    <tr>\n",
       "      <th>2</th>\n",
       "      <td>2</td>\n",
       "      <td>Max Roach</td>\n",
       "    </tr>\n",
       "    <tr>\n",
       "      <th>3</th>\n",
       "      <td>3</td>\n",
       "      <td>Francis Rossi</td>\n",
       "    </tr>\n",
       "    <tr>\n",
       "      <th>4</th>\n",
       "      <td>4</td>\n",
       "      <td>Status Quo</td>\n",
       "    </tr>\n",
       "  </tbody>\n",
       "</table>\n",
       "</div>"
      ],
      "text/plain": [
       "   artistId     artistName\n",
       "0         0    Mack Gordon\n",
       "1         1   Kenny Dorham\n",
       "2         2      Max Roach\n",
       "3         3  Francis Rossi\n",
       "4         4     Status Quo"
      ]
     },
     "execution_count": 7,
     "metadata": {},
     "output_type": "execute_result"
    }
   ],
   "source": [
    "artists = se.read.json(\"hdfs:///yandex_music/artists.jsonl\")\n",
    "artists.registerTempTable(\"artists\")\n",
    "artists.limit(5).toPandas()"
   ]
  },
  {
   "cell_type": "code",
   "execution_count": 8,
   "metadata": {},
   "outputs": [
    {
     "data": {
      "text/html": [
       "<div>\n",
       "<style scoped>\n",
       "    .dataframe tbody tr th:only-of-type {\n",
       "        vertical-align: middle;\n",
       "    }\n",
       "\n",
       "    .dataframe tbody tr th {\n",
       "        vertical-align: top;\n",
       "    }\n",
       "\n",
       "    .dataframe thead th {\n",
       "        text-align: right;\n",
       "    }\n",
       "</style>\n",
       "<table border=\"1\" class=\"dataframe\">\n",
       "  <thead>\n",
       "    <tr style=\"text-align: right;\">\n",
       "      <th></th>\n",
       "      <th>userId</th>\n",
       "      <th>artistId</th>\n",
       "      <th>plays</th>\n",
       "      <th>skips</th>\n",
       "    </tr>\n",
       "  </thead>\n",
       "  <tbody>\n",
       "    <tr>\n",
       "      <th>0</th>\n",
       "      <td>0</td>\n",
       "      <td>335</td>\n",
       "      <td>1</td>\n",
       "      <td>0</td>\n",
       "    </tr>\n",
       "    <tr>\n",
       "      <th>1</th>\n",
       "      <td>0</td>\n",
       "      <td>708</td>\n",
       "      <td>1</td>\n",
       "      <td>0</td>\n",
       "    </tr>\n",
       "    <tr>\n",
       "      <th>2</th>\n",
       "      <td>0</td>\n",
       "      <td>710</td>\n",
       "      <td>2</td>\n",
       "      <td>1</td>\n",
       "    </tr>\n",
       "    <tr>\n",
       "      <th>3</th>\n",
       "      <td>0</td>\n",
       "      <td>815</td>\n",
       "      <td>1</td>\n",
       "      <td>1</td>\n",
       "    </tr>\n",
       "    <tr>\n",
       "      <th>4</th>\n",
       "      <td>0</td>\n",
       "      <td>880</td>\n",
       "      <td>1</td>\n",
       "      <td>1</td>\n",
       "    </tr>\n",
       "  </tbody>\n",
       "</table>\n",
       "</div>"
      ],
      "text/plain": [
       "   userId  artistId  plays  skips\n",
       "0       0       335      1      0\n",
       "1       0       708      1      0\n",
       "2       0       710      2      1\n",
       "3       0       815      1      1\n",
       "4       0       880      1      1"
      ]
     },
     "execution_count": 8,
     "metadata": {},
     "output_type": "execute_result"
    }
   ],
   "source": [
    "events = se.read.csv(\"hdfs:///yandex_music/events.csv\", header=True, \n",
    "                     schema='userId bigint, artistId bigint, plays INT, skips INT')\n",
    "events.registerTempTable(\"events\")\n",
    "events.limit(5).toPandas()"
   ]
  },
  {
   "cell_type": "code",
   "execution_count": 4,
   "metadata": {},
   "outputs": [
    {
     "data": {
      "text/html": [
       "<div>\n",
       "<style scoped>\n",
       "    .dataframe tbody tr th:only-of-type {\n",
       "        vertical-align: middle;\n",
       "    }\n",
       "\n",
       "    .dataframe tbody tr th {\n",
       "        vertical-align: top;\n",
       "    }\n",
       "\n",
       "    .dataframe thead th {\n",
       "        text-align: right;\n",
       "    }\n",
       "</style>\n",
       "<table border=\"1\" class=\"dataframe\">\n",
       "  <thead>\n",
       "    <tr style=\"text-align: right;\">\n",
       "      <th></th>\n",
       "      <th>users</th>\n",
       "      <th>artists</th>\n",
       "      <th>interactions</th>\n",
       "      <th>density</th>\n",
       "    </tr>\n",
       "  </thead>\n",
       "  <tbody>\n",
       "    <tr>\n",
       "      <th>0</th>\n",
       "      <td>4999</td>\n",
       "      <td>53031</td>\n",
       "      <td>3412504</td>\n",
       "      <td>0.012872</td>\n",
       "    </tr>\n",
       "  </tbody>\n",
       "</table>\n",
       "</div>"
      ],
      "text/plain": [
       "   users  artists  interactions   density\n",
       "0   4999    53031       3412504  0.012872"
      ]
     },
     "execution_count": 4,
     "metadata": {},
     "output_type": "execute_result"
    }
   ],
   "source": [
    "# stats\n",
    "se.sql(\"\"\"\n",
    "select\n",
    "    count(distinct userId) as users,\n",
    "    count(distinct artistId) as artists,\n",
    "    count(*) as interactions,\n",
    "    count(*) / (count(distinct userId) * count(distinct artistId)) as density\n",
    "from \n",
    "    events\n",
    "\"\"\").toPandas()"
   ]
  },
  {
   "cell_type": "code",
   "execution_count": null,
   "metadata": {
    "scrolled": false
   },
   "outputs": [],
   "source": [
    "# most popular artists\n",
    "se.sql(\"\"\"\n",
    "select\n",
    "    artists.artistName,\n",
    "    sum(plays) as popularity\n",
    "from \n",
    "    events join artists on events.artistId = artists.artistId\n",
    "group by artistName\n",
    "order by popularity desc\n",
    "limit 30\n",
    "\"\"\").toPandas()"
   ]
  },
  {
   "cell_type": "markdown",
   "metadata": {},
   "source": [
    "# Train iALS\n",
    "\n",
    "rating = plays"
   ]
  },
  {
   "cell_type": "code",
   "execution_count": 6,
   "metadata": {},
   "outputs": [
    {
     "name": "stdout",
     "output_type": "stream",
     "text": [
      "CPU times: user 14.7 ms, sys: 8.57 ms, total: 23.3 ms\n",
      "Wall time: 27.7 s\n"
     ]
    }
   ],
   "source": [
    "%%time\n",
    "train, test = events.rdd.randomSplit([0.95, 0.05], seed=0)\n",
    "\n",
    "# turn on caching for speed\n",
    "train.cache()\n",
    "test.cache()\n",
    "\n",
    "# populate cache\n",
    "train.count()\n",
    "test.count()"
   ]
  },
  {
   "cell_type": "code",
   "execution_count": 7,
   "metadata": {},
   "outputs": [
    {
     "data": {
      "text/plain": [
       "[Row(userId=0, artistId=335, plays=1, skips=0),\n",
       " Row(userId=0, artistId=708, plays=1, skips=0),\n",
       " Row(userId=0, artistId=710, plays=2, skips=1),\n",
       " Row(userId=0, artistId=815, plays=1, skips=1),\n",
       " Row(userId=0, artistId=880, plays=1, skips=1)]"
      ]
     },
     "execution_count": 7,
     "metadata": {},
     "output_type": "execute_result"
    }
   ],
   "source": [
    "train.take(5)"
   ]
  },
  {
   "cell_type": "code",
   "execution_count": 24,
   "metadata": {},
   "outputs": [
    {
     "name": "stdout",
     "output_type": "stream",
     "text": [
      "CPU times: user 95.6 ms, sys: 22.6 ms, total: 118 ms\n",
      "Wall time: 1min\n"
     ]
    }
   ],
   "source": [
    "%%time\n",
    "from pyspark.mllib.recommendation import ALS\n",
    "model = ALS().trainImplicit(\n",
    "    train.map(lambda x: (x.userId, x.artistId, np.log2(x.plays + 1))),\n",
    "    rank=32, iterations=10, lambda_=0.01, alpha=10.0, seed=0\n",
    ")"
   ]
  },
  {
   "cell_type": "code",
   "execution_count": 25,
   "metadata": {},
   "outputs": [
    {
     "name": "stdout",
     "output_type": "stream",
     "text": [
      "(52665, 32)\n"
     ]
    }
   ],
   "source": [
    "# artists' embeddings\n",
    "import numpy as np\n",
    "\n",
    "artist_to_name = {}\n",
    "for row in artists.collect():\n",
    "    artist_to_name[row.artistId] = row.artistName\n",
    "\n",
    "artist_ids = []\n",
    "artist_names = []\n",
    "artist_profiles = []\n",
    "\n",
    "for artistId, profile in model.productFeatures().collect():\n",
    "    artist_ids.append(artistId)\n",
    "    artist_names.append(artist_to_name[artistId])\n",
    "    artist_profiles.append(profile)\n",
    "\n",
    "artist_ids = np.array(artist_ids)\n",
    "artist_names = np.array(artist_names)\n",
    "artist_profiles = np.vstack(artist_profiles)\n",
    "print(artist_profiles.shape)"
   ]
  },
  {
   "cell_type": "markdown",
   "metadata": {},
   "source": [
    "# Similar artists"
   ]
  },
  {
   "cell_type": "code",
   "execution_count": 26,
   "metadata": {},
   "outputs": [
    {
     "data": {
      "text/plain": [
       "{11563: '50 Cent', 22207: 'AC/DC', 32914: 'Coldplay'}"
      ]
     },
     "execution_count": 26,
     "metadata": {},
     "output_type": "execute_result"
    }
   ],
   "source": [
    "target_artists = {index: v \n",
    "                  for index, v in enumerate(artist_names) \n",
    "                  if \"Coldplay\" == v or \"50 Cent\" == v or \"AC/DC\" == v}\n",
    "target_artists"
   ]
  },
  {
   "cell_type": "code",
   "execution_count": 27,
   "metadata": {},
   "outputs": [
    {
     "name": "stdout",
     "output_type": "stream",
     "text": [
      "############# 50 Cent #############\n",
      "50 Cent \t 1.0\n",
      "Dr. Dre \t 0.87176920263\n",
      "Lloyd Banks \t 0.862571081123\n",
      "Jay-Z \t 0.835235793381\n",
      "2Chainz \t 0.822563140385\n",
      "Cashis \t 0.812456739525\n",
      "Snoop Dogg \t 0.810484217851\n",
      "Missy  Elliott \t 0.805635315489\n",
      "Akon \t 0.798163079104\n",
      "Busta Rhymes \t 0.787780080328\n",
      "############# AC/DC #############\n",
      "AC/DC \t 1.0\n",
      "The Offspring \t 0.880806285576\n",
      "Nirvana \t 0.87660720058\n",
      "Metallica \t 0.874860631399\n",
      "Red Hot Chili Peppers \t 0.873863202133\n",
      "System of A Down \t 0.853683802014\n",
      "Limp Bizkit \t 0.853453742095\n",
      "Bon Jovi \t 0.850678176659\n",
      "Nickelback \t 0.846709868065\n",
      "Scorpions \t 0.842406452006\n",
      "############# Coldplay #############\n",
      "Coldplay \t 1.0\n",
      "Lana Del Rey \t 0.957398977112\n",
      "Adele \t 0.954771689577\n",
      "OneRepublic \t 0.951114667239\n",
      "Maroon 5 \t 0.950856957375\n",
      "Sam Smith \t 0.929694792036\n",
      "Katy Perry \t 0.921320013598\n",
      "Ed Sheeran \t 0.919972991344\n",
      "Pharrell Williams \t 0.919839118559\n",
      "Twenty One Pilots \t 0.91862092206\n"
     ]
    }
   ],
   "source": [
    "import scipy\n",
    "import scipy.spatial\n",
    "\n",
    "for index, name in target_artists.items():\n",
    "    print(\"#############\", name, \"#############\")\n",
    "    \n",
    "    cosines = (-scipy.spatial.distance.cdist([artist_profiles[index]], artist_profiles, metric='cosine') + 1)[0]\n",
    "    cosines[np.isnan(cosines)] = -1e20\n",
    "\n",
    "    for idx in np.argsort(cosines)[::-1][:10]:\n",
    "        print(artist_names[idx], \"\\t\", cosines[idx])"
   ]
  },
  {
   "cell_type": "markdown",
   "metadata": {},
   "source": [
    "# NDCG"
   ]
  },
  {
   "cell_type": "code",
   "execution_count": 12,
   "metadata": {},
   "outputs": [],
   "source": [
    "def dcg(ratings):\n",
    "    return float(np.sum((2 ** np.array(ratings, np.float32) - 1) / np.log2(np.arange(1, len(ratings) + 1) + 1)))\n",
    "\n",
    "\n",
    "def ndcg(ratings, at=None):\n",
    "    idcg = dcg(sorted(ratings, reverse=True))\n",
    "    return dcg(ratings) / idcg if idcg > 0 else 0\n",
    "\n",
    "\n",
    "def ndcg_score(y_true, y_pred):\n",
    "    assert y_true.shape == y_pred.shape\n",
    "    order = np.argsort(y_pred)[::-1]\n",
    "    return ndcg(y_true[order])\n",
    "\n",
    "\n",
    "# tests\n",
    "def test1():\n",
    "    y_true = np.array([  0,   0,   2,   1,   0])\n",
    "    y_pred = np.array([0.2, 0.1, 0.5, 0.3, 0.4])\n",
    "    correct_ndcg = (3 / np.log(1 + 1) + 1 / np.log(3 + 1)) / (3 / np.log(1 + 1) + 1 / np.log(2 + 1))\n",
    "    assert np.allclose(ndcg_score(y_true, y_pred), correct_ndcg)\n",
    "\n",
    "    \n",
    "def test2():\n",
    "    y_true = np.array([  0,   0,   0,   0,   0])\n",
    "    y_pred = np.array([0.2, 0.1, 0.5, 0.3, 0.4])\n",
    "    assert np.allclose(ndcg_score(y_true, y_pred), 0.0)\n",
    "\n",
    "    \n",
    "def test3():\n",
    "    y_true = np.array([  1,   0,   0,   0,   0])\n",
    "    y_pred = np.array([0.2, 0.1, 0.5, 0.3, 0.4])\n",
    "    correct_ndcg = (1 / np.log(4 + 1)) / (1 / np.log(1 + 1))\n",
    "    assert np.allclose(ndcg_score(y_true, y_pred), correct_ndcg)\n",
    "\n",
    "\n",
    "test1()\n",
    "test2()\n",
    "test3()"
   ]
  },
  {
   "cell_type": "code",
   "execution_count": 13,
   "metadata": {},
   "outputs": [
    {
     "name": "stdout",
     "output_type": "stream",
     "text": [
      "45.64282878502658\n",
      "33.64282878502658\n",
      "44.963945628433834\n"
     ]
    }
   ],
   "source": [
    "print(dcg([5, 4, 3, 2, 1]))\n",
    "print(dcg([3, 4, 5, 2, 1]))\n",
    "print(dcg([5, 4, 1, 2, 3]))"
   ]
  },
  {
   "cell_type": "markdown",
   "metadata": {},
   "source": [
    "# NDCG of baseline\n",
    "\n",
    "Rank artists by global popularity"
   ]
  },
  {
   "cell_type": "code",
   "execution_count": 14,
   "metadata": {},
   "outputs": [],
   "source": [
    "artist_to_popularity = (\n",
    "    train\n",
    "    .map(lambda x: (x.artistId, x.plays))\n",
    "    .reduceByKey(lambda a, b: a + b)\n",
    "    .collect()\n",
    ")\n",
    "\n",
    "artist_to_popularity = {a: p for a, p in artist_to_popularity}"
   ]
  },
  {
   "cell_type": "code",
   "execution_count": 15,
   "metadata": {},
   "outputs": [],
   "source": [
    "predictions_and_ratings_per_user = (\n",
    "    test\n",
    "    .map(lambda x: (x.userId, (artist_to_popularity.get(x.artistId, 0), np.log2(x.plays + 1))))\n",
    "    .groupByKey()\n",
    "    .map(lambda x: (x[0], list(x[1])))\n",
    ")"
   ]
  },
  {
   "cell_type": "code",
   "execution_count": 16,
   "metadata": {
    "scrolled": true
   },
   "outputs": [
    {
     "data": {
      "text/plain": [
       "[(0,\n",
       "  [(2371, 1.0),\n",
       "   (22102, 3.3219280948873622),\n",
       "   (609, 1.0),\n",
       "   (7399, 1.0),\n",
       "   (884, 1.5849625007211561),\n",
       "   (481, 1.5849625007211561),\n",
       "   (4008, 1.0),\n",
       "   (2325, 1.5849625007211561),\n",
       "   (774, 1.0),\n",
       "   (1035, 1.5849625007211561),\n",
       "   (4484, 3.5849625007211561),\n",
       "   (234, 1.0),\n",
       "   (1523, 1.0),\n",
       "   (2273, 1.5849625007211561),\n",
       "   (1243, 2.3219280948873622),\n",
       "   (5388, 2.3219280948873622),\n",
       "   (7856, 5.9772799234999168),\n",
       "   (781, 1.0),\n",
       "   (4743, 1.5849625007211561),\n",
       "   (1234, 1.0),\n",
       "   (1569, 0.0),\n",
       "   (650, 0.0),\n",
       "   (817, 0.0),\n",
       "   (1579, 0.0),\n",
       "   (1397, 0.0),\n",
       "   (9438, 0.0),\n",
       "   (9, 0.0),\n",
       "   (773, 0.0),\n",
       "   (543, 0.0),\n",
       "   (46, 0.0),\n",
       "   (574, 0.0),\n",
       "   (9578, 0.0),\n",
       "   (241, 0.0)])]"
      ]
     },
     "execution_count": 16,
     "metadata": {},
     "output_type": "execute_result"
    }
   ],
   "source": [
    "predictions_and_ratings_per_user.take(1)"
   ]
  },
  {
   "cell_type": "code",
   "execution_count": 17,
   "metadata": {},
   "outputs": [
    {
     "data": {
      "text/plain": [
       "0.6610135790248743"
      ]
     },
     "execution_count": 17,
     "metadata": {},
     "output_type": "execute_result"
    }
   ],
   "source": [
    "def ndcg_for_user(x):\n",
    "    y_pred = np.array([e[0] for e in x])\n",
    "    y_true = np.array([e[1] for e in x])\n",
    "    return ndcg_score(y_true, y_pred)\n",
    "    \n",
    "(\n",
    "    predictions_and_ratings_per_user\n",
    "    .map(lambda x: ndcg_for_user(x[1]))\n",
    "    .mean()\n",
    ")"
   ]
  },
  {
   "cell_type": "markdown",
   "metadata": {},
   "source": [
    "# NDCG of iALS"
   ]
  },
  {
   "cell_type": "code",
   "execution_count": 28,
   "metadata": {},
   "outputs": [],
   "source": [
    "predictions = (\n",
    "    model\n",
    "    .predictAll(test.map(lambda x: (x.userId, x.artistId)))\n",
    "    .map(lambda x: ((x[0], x[1]), x[2]))\n",
    ")"
   ]
  },
  {
   "cell_type": "code",
   "execution_count": 29,
   "metadata": {},
   "outputs": [
    {
     "data": {
      "text/plain": [
       "[((3949, 17312), 0.8030995046830238),\n",
       " ((2464, 17312), 0.7113483998861412),\n",
       " ((1858, 17312), 0.3888120783910832),\n",
       " ((4147, 17312), -0.1829481711739028),\n",
       " ((77, 3456), 0.30611075912876945)]"
      ]
     },
     "execution_count": 29,
     "metadata": {},
     "output_type": "execute_result"
    }
   ],
   "source": [
    "predictions.take(5)"
   ]
  },
  {
   "cell_type": "code",
   "execution_count": 30,
   "metadata": {},
   "outputs": [],
   "source": [
    "predictions_and_ratings_per_user = (\n",
    "    predictions\n",
    "    .join(test.map(lambda x: ((x.userId, x.artistId), np.log2(x.plays + 1))))\n",
    "    .map(lambda x: (x[0][0], x[1]))\n",
    "    .groupByKey()\n",
    "    .map(lambda x: (x[0], list(x[1])))\n",
    ")"
   ]
  },
  {
   "cell_type": "code",
   "execution_count": 31,
   "metadata": {
    "scrolled": false
   },
   "outputs": [
    {
     "data": {
      "text/plain": [
       "[(2816,\n",
       "  [(0.2346505020090635, 0.0),\n",
       "   (0.6805648268080089, 1.0),\n",
       "   (0.002171185035217969, 0.0),\n",
       "   (0.7116594521569385, 0.0),\n",
       "   (0.6533145646762915, 0.0),\n",
       "   (0.8557148872377391, 5.7548875021634682),\n",
       "   (0.5048028191164565, 1.5849625007211561),\n",
       "   (0.14434127345083803, 0.0),\n",
       "   (1.001120439472722, 2.3219280948873622),\n",
       "   (0.9308679654406266, 3.0),\n",
       "   (0.42996150182789633, 0.0),\n",
       "   (0.3494304392722968, 0.0),\n",
       "   (0.6577348212113873, 0.0),\n",
       "   (0.8763885448939661, 1.0),\n",
       "   (0.5544562197707432, 0.0),\n",
       "   (0.47719639061737673, 1.0),\n",
       "   (0.9753262163922594, 3.8073549220576042),\n",
       "   (0.598020939013476, 1.0),\n",
       "   (0.8114790918340737, 0.0),\n",
       "   (0.5809819236480271, 0.0),\n",
       "   (0.01893891198655006, 3.9068905956085187),\n",
       "   (0.7632991406863413, 0.0),\n",
       "   (-0.10761971593888606, 0.0),\n",
       "   (0.9885897265248467, 0.0),\n",
       "   (0.4867501410680902, 0.0),\n",
       "   (0.38156062745105784, 0.0),\n",
       "   (0.46353917334755157, 1.0),\n",
       "   (0.5385095386026597, 0.0),\n",
       "   (0.44012027262057335, 1.0),\n",
       "   (0.39191343700735914, 0.0),\n",
       "   (0.6996713883362786, 1.0),\n",
       "   (0.565498063629049, 0.0),\n",
       "   (-0.13876970921609727, 0.0),\n",
       "   (0.6284961247443323, 0.0),\n",
       "   (0.7804380131372965, 0.0),\n",
       "   (0.6655335233743603, 0.0)])]"
      ]
     },
     "execution_count": 31,
     "metadata": {},
     "output_type": "execute_result"
    }
   ],
   "source": [
    "predictions_and_ratings_per_user.take(1)"
   ]
  },
  {
   "cell_type": "code",
   "execution_count": 32,
   "metadata": {},
   "outputs": [
    {
     "data": {
      "text/plain": [
       "0.7165279297105116"
      ]
     },
     "execution_count": 32,
     "metadata": {},
     "output_type": "execute_result"
    }
   ],
   "source": [
    "def ndcg_for_user(x):\n",
    "    y_pred = np.array([e[0] for e in x])\n",
    "    y_true = np.array([e[1] for e in x])\n",
    "    return ndcg_score(y_true, y_pred)\n",
    "    \n",
    "(\n",
    "    predictions_and_ratings_per_user\n",
    "    .map(lambda x: ndcg_for_user(x[1]))\n",
    "    .mean()\n",
    ")"
   ]
  },
  {
   "cell_type": "code",
   "execution_count": null,
   "metadata": {},
   "outputs": [],
   "source": [
    "print(\"Improved by {:0.3} percent!\".format(100 * (0.716 / 0.661 - 1)))"
   ]
  },
  {
   "cell_type": "markdown",
   "metadata": {},
   "source": [
    "# Homework\n",
    "\n",
    "On the lecture we've discussed Jaccard similarity and how to compute it using MapReduce.\n",
    "\n",
    "Use Spark to answer the following questions:\n",
    "1. **(1 point) How many pairs of artists have non-zero Jaccard similarity (consider all of them, even (a, a)).**\n",
    "2. **(1 point) Find 5 most similar artists to \"Maroon 5\" using Jaccard similarity.**\n",
    "\n",
    "Hints:\n",
    "- Use data, loaded <a href=\"#Load-to-Spark\">here</a>.\n",
    "- To reduce the complexity of Jaccard similarity computation let's consider only entries with $plays > 2$.\n",
    "- For more confident Jaccard estimates let's consider artists who have more than 50 users in the filtered dataset.\n",
    "- For debugging please use <a href=\"https://spark.apache.org/docs/latest/api/python/pyspark.html#pyspark.RDD.sample\">events.sample(False, 0.01)</a> to reduce computation time.\n",
    "- Let's say that statistics (like popularity) of all artists fit in memory.\n",
    "- Play around with parallelism of operations, e.g. \n",
    "<a href=\"https://spark.apache.org/docs/latest/api/python/pyspark.html#pyspark.RDD.groupByKey\">groupByKey(numPartitions=100)</a>, to see more precise progress bar.\n",
    "- You can store intermidiate results on HDFS if you need.\n",
    "- Please be patient, computation might take tens of minutes.\n",
    "- You can use Spark SQL if you like."
   ]
  },
  {
   "cell_type": "code",
   "execution_count": 68,
   "metadata": {},
   "outputs": [
    {
     "name": "stdout",
     "output_type": "stream",
     "text": [
      "+------+--------+-----+-----+\n",
      "|userId|artistId|plays|skips|\n",
      "+------+--------+-----+-----+\n",
      "|     0|     335|    1|    0|\n",
      "+------+--------+-----+-----+\n",
      "only showing top 1 row\n",
      "\n"
     ]
    }
   ],
   "source": [
    "events.show(1)"
   ]
  },
  {
   "cell_type": "code",
   "execution_count": 69,
   "metadata": {},
   "outputs": [
    {
     "name": "stdout",
     "output_type": "stream",
     "text": [
      "+------+---+\n",
      "|userId|cnt|\n",
      "+------+---+\n",
      "|  4689|644|\n",
      "|  3121|577|\n",
      "|  4575|572|\n",
      "|  2266|519|\n",
      "|  4217|512|\n",
      "+------+---+\n",
      "only showing top 5 rows\n",
      "\n"
     ]
    }
   ],
   "source": [
    "se.sql(\n",
    "\"\"\"\n",
    "select \n",
    "    userId,\n",
    "    count(*) as cnt\n",
    "from events\n",
    "where plays > 2\n",
    "group by userId\n",
    "order by cnt desc\n",
    "\"\"\").show(5)"
   ]
  },
  {
   "cell_type": "code",
   "execution_count": null,
   "metadata": {},
   "outputs": [],
   "source": [
    "# YOUR CODE HERE"
   ]
  },
  {
   "cell_type": "code",
   "execution_count": null,
   "metadata": {},
   "outputs": [],
   "source": [
    "# sc.stop()"
   ]
  }
 ],
 "metadata": {
  "kernelspec": {
   "display_name": "Python 3",
   "language": "python",
   "name": "python3"
  },
  "language_info": {
   "codemirror_mode": {
    "name": "ipython",
    "version": 3
   },
   "file_extension": ".py",
   "mimetype": "text/x-python",
   "name": "python",
   "nbconvert_exporter": "python",
   "pygments_lexer": "ipython3",
   "version": "3.6.8"
  }
 },
 "nbformat": 4,
 "nbformat_minor": 2
}
